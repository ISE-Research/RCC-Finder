{
 "cells": [
  {
   "cell_type": "code",
   "execution_count": null,
   "id": "69780a41",
   "metadata": {},
   "outputs": [],
   "source": [
    "#we can test different coefficients by changing scores and coefficients in last line\n",
    "import pandas as pd\n",
    "address = \"results/zookeeper/file_review_sqrt.csv\"\n",
    "filereview_df = pd.read_csv(address)\n",
    "filereview_df = filereview_df.iloc[:, 1:]\n",
    "address = \"results/zookeeper/pack_change_sqrt.csv\"\n",
    "packchange_df = pd.read_csv(address)\n",
    "packchange_df = packchange_df.iloc[:, 1:]\n",
    "address = \"results/zookeeper/pack2_change_sqrt.csv\"\n",
    "packchange2_df = pd.read_csv(address)\n",
    "packchange2_df = packchange2_df.iloc[:, 1:]\n",
    "address = \"results/zookeeper/pack_review_sqrt.csv\"\n",
    "packreview_df = pd.read_csv(address)\n",
    "packreview_df = packreview_df.iloc[:, 1:]\n",
    "ans_df =  packchange_df + packchange2_df + (4)*(filereview_df + 2*packreview_df)"
   ]
  }
 ],
 "metadata": {
  "kernelspec": {
   "display_name": "Python 3 (ipykernel)",
   "language": "python",
   "name": "python3"
  },
  "language_info": {
   "codemirror_mode": {
    "name": "ipython",
    "version": 3
   },
   "file_extension": ".py",
   "mimetype": "text/x-python",
   "name": "python",
   "nbconvert_exporter": "python",
   "pygments_lexer": "ipython3",
   "version": "3.11.5"
  }
 },
 "nbformat": 4,
 "nbformat_minor": 5
}
