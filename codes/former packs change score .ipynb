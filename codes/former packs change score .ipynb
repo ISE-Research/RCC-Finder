{
 "cells": [
  {
   "cell_type": "code",
   "execution_count": null,
   "id": "97dc9b26",
   "metadata": {},
   "outputs": [],
   "source": [
    "#change score for pack before last level pack\n",
    "##calculate relative pack change score\n",
    "import pandas as pd\n",
    "import math\n",
    "address = \"results/flink/pack_change_num.csv\"\n",
    "sqrtresult_df = pd.read_csv(address)\n",
    "for col in sqrtresult_df.columns[1:]:\n",
    "    sqrtresult_df[col].values[:] = 0\n",
    "\n",
    "address = \"D:/Master/semester3/experiments/features/flink/datedPullFile.csv\"\n",
    "file_df = pd.read_csv(address)\n",
    "address = \"D:/Master/semester3/experiments/features/flink/datedCommitFileAuthor.csv\"\n",
    "commit_df = pd.read_csv(address)\n",
    "def function_r(x):\n",
    "    A = x.split(\"/\")\n",
    "    del A[-1]\n",
    "    if len(A) > 0:\n",
    "        del A[-1]\n",
    "    return('/'.join(A))\n",
    "file_df['file_path'] = file_df['file_path'].apply(function_r)\n",
    "\n",
    "for i in range(sqrtresult_df.shape[0]):\n",
    "    number = sqrtresult_df.loc[i, 'number']\n",
    "    print(i)\n",
    "    print(number)\n",
    "    myfile_df = file_df[file_df.pull_number == number]\n",
    "    myfile_df = myfile_df.drop_duplicates(subset=['file_path'], keep=\"first\")\n",
    "    if myfile_df.shape[0] == 0:\n",
    "        continue\n",
    "    date = myfile_df.iloc[0, 2]\n",
    "    for j in range(myfile_df.shape[0]):\n",
    "        mycommit_df = commit_df[commit_df.date < date]\n",
    "        path = myfile_df.iloc[j, 1]\n",
    "        newcommit_df = mycommit_df[mycommit_df.file_path.str.startswith(path)]\n",
    "        newcommit_df = newcommit_df.drop_duplicates(subset=['oid', 'author_login'], keep=\"last\")\n",
    "        whole = newcommit_df.shape[0]\n",
    "        num_df = newcommit_df.groupby(['author_login'])['oid'].count()\n",
    "        time_df = newcommit_df.groupby(['author_login'])['date'].max()\n",
    "        for k in range(num_df.shape[0]):\n",
    "            committer = num_df.index[k]\n",
    "            num = num_df.iloc[k]\n",
    "            max_value = time_df.iloc[k]\n",
    "            if whole != 0:\n",
    "                lasttime = time_interval(max_value, date)\n",
    "                if lasttime !=0:\n",
    "                    sqrtresult_df.loc[i, committer] += (num/whole) / (lasttime**(1/3))\n",
    "                else:\n",
    "                    sqrtresult_df.loc[i, committer] += (num/whole) \n",
    "sqrtresult_df.to_csv(\"results/flink/pack2_change_cube.csv\", index = False)"
   ]
  }
 ],
 "metadata": {
  "kernelspec": {
   "display_name": "Python 3 (ipykernel)",
   "language": "python",
   "name": "python3"
  },
  "language_info": {
   "codemirror_mode": {
    "name": "ipython",
    "version": 3
   },
   "file_extension": ".py",
   "mimetype": "text/x-python",
   "name": "python",
   "nbconvert_exporter": "python",
   "pygments_lexer": "ipython3",
   "version": "3.11.5"
  }
 },
 "nbformat": 4,
 "nbformat_minor": 5
}
