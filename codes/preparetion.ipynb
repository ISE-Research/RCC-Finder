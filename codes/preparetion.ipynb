{
 "cells": [
  {
   "cell_type": "code",
   "execution_count": null,
   "id": "c39a59fe",
   "metadata": {},
   "outputs": [],
   "source": [
    "#calulate all candidate reviewers\n",
    "address = \"D:/Master/semester3/experiments/dataset/csv/github/apache/spark/2020-01-10/reviewer.csv\"\n",
    "reviewer_df = pd.read_csv(address, sep=\"|\")\n",
    "address = \"D:/Master/semester3/experiments/dataset/csv/github/apache/spark/2020-01-10/commit_author.csv\"\n",
    "committer_df = pd.read_csv(address, sep=\"|\")\n",
    "reviewer_df = reviewer_df.loc[:, 'reviewer_login']\n",
    "committer_df = committer_df.loc[:, 'author_login']\n",
    "reviewer_df.drop_duplicates(inplace = True)\n",
    "committer_df.drop_duplicates(inplace = True)\n",
    "print(reviewer_df)\n",
    "reviewer_df = reviewer_df.append(committer_df, ignore_index=True)\n",
    "print(reviewer_df)\n",
    "reviewer_df.drop_duplicates(inplace = True)\n",
    "reviewer_df.dropna(inplace = True)\n",
    "reviewer_df.reset_index(drop=True, inplace=True)\n",
    "reviewer_df.to_csv(\"D:/Master/semester3/experiments/dataset/csv/github/apache/spark/2020-01-10/candidates.csv\")\n",
    "reviewer_df"
   ]
  },
  {
   "cell_type": "code",
   "execution_count": null,
   "id": "6ae51784",
   "metadata": {},
   "outputs": [],
   "source": [
    "#chose pull request which has reviewer\n",
    "import pandas as pd\n",
    "address = \"D:/Master/semester3/experiments/dataset/csv/github/apache/flink/2020-01-10/pull.csv\"\n",
    "pull_df = pd.read_csv(address, sep=\"|\")\n",
    "address = \"D:/Master/semester3/experiments/dataset/csv/github/apache/flink/2020-01-10/reviewer.csv\"\n",
    "reviewer_df = pd.read_csv(address, sep=\"|\")\n",
    "\n",
    "for i in range(pull_df.shape[0]):\n",
    "    number = pull_df.loc[i, \"number\"]\n",
    "    found = 0\n",
    "    myreviewer_df = reviewer_df[reviewer_df.pull_number == number]\n",
    "    if myreviewer_df.shape[0] != 0:\n",
    "        found = 1\n",
    "    if found == 0:\n",
    "        pull_df = pull_df[pull_df.number != number]\n",
    "pull_df.reset_index(drop=True, inplace=True)\n",
    "pull_df.to_csv(\"D:/Master/semester3/experiments/dataset/csv/github/apache/flink/2020-01-10/has_review.csv\", index = False)\n",
    "pull_df"
   ]
  }
 ],
 "metadata": {
  "kernelspec": {
   "display_name": "Python 3 (ipykernel)",
   "language": "python",
   "name": "python3"
  },
  "language_info": {
   "codemirror_mode": {
    "name": "ipython",
    "version": 3
   },
   "file_extension": ".py",
   "mimetype": "text/x-python",
   "name": "python",
   "nbconvert_exporter": "python",
   "pygments_lexer": "ipython3",
   "version": "3.11.5"
  }
 },
 "nbformat": 4,
 "nbformat_minor": 5
}
